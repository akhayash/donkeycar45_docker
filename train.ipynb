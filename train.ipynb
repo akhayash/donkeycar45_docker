{
 "cells": [
  {
   "cell_type": "code",
   "execution_count": 1,
   "metadata": {},
   "outputs": [],
   "source": [
    "# Handle to the workspace\n",
    "from azure.ai.ml import MLClient\n",
    "\n",
    "# Authentication package\n",
    "from azure.identity import DefaultAzureCredential\n",
    "\n",
    "credential = DefaultAzureCredential()"
   ]
  },
  {
   "cell_type": "code",
   "execution_count": 2,
   "metadata": {},
   "outputs": [],
   "source": [
    "# Get a handle to the workspace\n",
    "ml_client = MLClient(\n",
    "    credential=credential,\n",
    "    subscription_id=\"2400bef4-fcef-4604-9496-195b7a0935e6\",\n",
    "    resource_group_name=\"jetson-rg\",\n",
    "    workspace_name=\"jetson-aml\",\n",
    ")"
   ]
  },
  {
   "cell_type": "code",
   "execution_count": 3,
   "metadata": {},
   "outputs": [
    {
     "name": "stdout",
     "output_type": "stream",
     "text": [
      "You already have a cluster named cpu-cluster, we'll reuse it as is.\n",
      "AMLCompute with name cpu-cluster is created, the compute size is STANDARD_DS3_V2\n"
     ]
    }
   ],
   "source": [
    "from azure.ai.ml.entities import AmlCompute\n",
    "\n",
    "# Name assigned to the compute cluster\n",
    "cpu_compute_target = \"cpu-cluster\"\n",
    "\n",
    "try:\n",
    "    # let's see if the compute target already exists\n",
    "    cpu_cluster = ml_client.compute.get(cpu_compute_target)\n",
    "    print( f\"You already have a cluster named {cpu_compute_target}, we'll reuse it as is.\")\n",
    "\n",
    "except Exception:\n",
    "    print(\"Creating a new cpu compute target...\")\n",
    "\n",
    "    # Let's create the Azure ML compute object with the intended parameters\n",
    "    cpu_cluster = AmlCompute(\n",
    "        name=cpu_compute_target,\n",
    "        # Azure ML Compute is the on-demand VM service\n",
    "        type=\"amlcompute\",\n",
    "        # VM Family\n",
    "        size=\"STANDARD_DS3_V2\",\n",
    "        # Minimum running nodes when there is no job running\n",
    "        min_instances=0,\n",
    "        # Nodes in cluster\n",
    "        max_instances=1,\n",
    "        # How many seconds will the node running after the job termination\n",
    "        idle_time_before_scale_down=180,\n",
    "        # Dedicated or LowPriority. The latter is cheaper but there is a chance of job termination\n",
    "        tier=\"LowPriority\",\n",
    "    )\n",
    "\n",
    "    # Now, we pass the object to MLClient's create_or_update method\n",
    "    cpu_cluster = ml_client.compute.begin_create_or_update(cpu_cluster).result()\n",
    "\n",
    "print(\n",
    "    f\"AMLCompute with name {cpu_cluster.name} is created, the compute size is {cpu_cluster.size}\"\n",
    ")"
   ]
  },
  {
   "cell_type": "code",
   "execution_count": 4,
   "metadata": {},
   "outputs": [
    {
     "name": "stdout",
     "output_type": "stream",
     "text": [
      "creation_context:\n",
      "  created_at: '2023-12-26T14:12:50.676111+00:00'\n",
      "  created_by: Akihito Hayashi\n",
      "  created_by_type: User\n",
      "  last_modified_at: '2023-12-26T14:12:50.676111+00:00'\n",
      "  last_modified_by: Akihito Hayashi\n",
      "  last_modified_by_type: User\n",
      "description: Donkey Car 4.5 environment on Ubuntu 18.04\n",
      "id: azureml:/subscriptions/2400bef4-fcef-4604-9496-195b7a0935e6/resourceGroups/jetson-rg/providers/Microsoft.MachineLearningServices/workspaces/jetson-aml/environments/mydonkey45/versions/3\n",
      "image: akhayash/donkey45:latest\n",
      "name: mydonkey45\n",
      "os_type: linux\n",
      "tags: {}\n",
      "version: '3'\n",
      "\n"
     ]
    }
   ],
   "source": [
    "from azure.ai.ml.entities import Environment\n",
    "\n",
    "env_docker_image = Environment(\n",
    "    image=\"akhayash/donkey45:latest\",\n",
    "    name=\"mydonkey45\",\n",
    "    description=\"Donkey Car 4.5 environment on Ubuntu 18.04\",\n",
    ")\n",
    "env = ml_client.environments.create_or_update(env_docker_image)\n",
    "\n",
    "print(env)\n"
   ]
  },
  {
   "cell_type": "code",
   "execution_count": 6,
   "metadata": {},
   "outputs": [
    {
     "name": "stderr",
     "output_type": "stream",
     "text": [
      "2023/12/26 23:17:54 INFO mlflow.tracking.fluent: Experiment with name 'donkey45' does not exist. Creating a new experiment.\n"
     ]
    },
    {
     "data": {
      "text/plain": [
       "<Experiment: artifact_location='', creation_time=1703600276377, experiment_id='e0575828-b43b-4b40-8da1-a8159c8e4e52', last_update_time=None, lifecycle_stage='active', name='donkey45', tags={}>"
      ]
     },
     "execution_count": 6,
     "metadata": {},
     "output_type": "execute_result"
    }
   ],
   "source": [
    "import mlflow\n",
    "import logging\n",
    "\n",
    "logging.getLogger(\"azure\").setLevel(logging.DEBUG)\n",
    "\n",
    "mlflow_tracking_uri = ml_client.workspaces.get(ml_client.workspace_name).mlflow_tracking_uri\n",
    "mlflow.set_tracking_uri(mlflow_tracking_uri)\n",
    "\n",
    "experiment_name = 'donkey45'\n",
    "mlflow.set_experiment(experiment_name)"
   ]
  },
  {
   "cell_type": "code",
   "execution_count": 11,
   "metadata": {},
   "outputs": [],
   "source": [
    "\n",
    "# run_name should be unique with \"donkey45\" and yyyy-mm-dd:hh:mm:ss format based on execution time\n",
    "mlflow.start_run(run_name=run_name)\n",
    "\n",
    "# Your code\n",
    "\n",
    "mlflow.end_run()"
   ]
  },
  {
   "cell_type": "code",
   "execution_count": null,
   "metadata": {},
   "outputs": [],
   "source": []
  }
 ],
 "metadata": {
  "kernelspec": {
   "display_name": "Python 3",
   "language": "python",
   "name": "python3"
  },
  "language_info": {
   "codemirror_mode": {
    "name": "ipython",
    "version": 3
   },
   "file_extension": ".py",
   "mimetype": "text/x-python",
   "name": "python",
   "nbconvert_exporter": "python",
   "pygments_lexer": "ipython3",
   "version": "3.8.18"
  }
 },
 "nbformat": 4,
 "nbformat_minor": 2
}
